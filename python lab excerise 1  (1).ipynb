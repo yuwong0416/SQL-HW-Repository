{
 "cells": [
  {
   "cell_type": "code",
   "execution_count": 117,
   "id": "e53205a1",
   "metadata": {},
   "outputs": [],
   "source": [
    "# Run this cell without changes\n",
    "main = \"rice\"\n",
    "protein = \"salmon\"\n",
    "oz_of_protein = 4.5\n",
    "number_of_sides = 3\n",
    "side1 = 'seaweed'\n",
    "side2 = 'onigiri'\n",
    "side3 = 'turnip pickle'\n",
    "great_bento = True"
   ]
  },
  {
   "cell_type": "code",
   "execution_count": 118,
   "id": "2e599e64",
   "metadata": {},
   "outputs": [],
   "source": [
    "protein = \"ginger chicken\""
   ]
  },
  {
   "cell_type": "code",
   "execution_count": 119,
   "id": "f1f4eb50",
   "metadata": {},
   "outputs": [
    {
     "name": "stdout",
     "output_type": "stream",
     "text": [
      "ginger chicken\n"
     ]
    }
   ],
   "source": [
    "print(protein) "
   ]
  },
  {
   "cell_type": "code",
   "execution_count": 120,
   "id": "159a62ec",
   "metadata": {},
   "outputs": [],
   "source": [
    "oz_of_protein = 3.5"
   ]
  },
  {
   "cell_type": "code",
   "execution_count": 121,
   "id": "079a6338",
   "metadata": {},
   "outputs": [
    {
     "name": "stdout",
     "output_type": "stream",
     "text": [
      "3.5\n"
     ]
    }
   ],
   "source": [
    "print(oz_of_protein)"
   ]
  },
  {
   "cell_type": "code",
   "execution_count": 122,
   "id": "85e69c0d",
   "metadata": {},
   "outputs": [],
   "source": [
    "side1, side2, side3 = 'kimchi', 'eggs','olives'"
   ]
  },
  {
   "cell_type": "code",
   "execution_count": 123,
   "id": "43527480",
   "metadata": {},
   "outputs": [
    {
     "name": "stdout",
     "output_type": "stream",
     "text": [
      "kimchi eggs olives\n"
     ]
    }
   ],
   "source": [
    "print(side1, side2, side3)"
   ]
  },
  {
   "cell_type": "code",
   "execution_count": 124,
   "id": "48b34f1d",
   "metadata": {},
   "outputs": [
    {
     "data": {
      "text/plain": [
       "str"
      ]
     },
     "execution_count": 124,
     "metadata": {},
     "output_type": "execute_result"
    }
   ],
   "source": [
    "# Run this cell without changes\n",
    "type(side1)"
   ]
  },
  {
   "cell_type": "code",
   "execution_count": 125,
   "id": "f26f02e6",
   "metadata": {},
   "outputs": [
    {
     "name": "stdout",
     "output_type": "stream",
     "text": [
      "no carbs, please!\n"
     ]
    }
   ],
   "source": [
    "# Run this cell without changes\n",
    "if (main == 'rice'):\n",
    "    print(\"no carbs, please!\")\n",
    "elif(oz_of_protein >= 2.5):\n",
    "    print(\"too much!\")\n",
    "else:\n",
    "    print(\"I will like this bento box!\")"
   ]
  },
  {
   "cell_type": "code",
   "execution_count": 126,
   "id": "4a228b8e",
   "metadata": {},
   "outputs": [],
   "source": [
    "if main == 'rice':\n",
    "    great_bento = False  \n",
    "elif oz_of_protein >= 2.5:\n",
    "    great_bento = False \n",
    "else:\n",
    "    great_bento = True  \n"
   ]
  },
  {
   "cell_type": "code",
   "execution_count": 127,
   "id": "3ee70612",
   "metadata": {},
   "outputs": [
    {
     "name": "stdout",
     "output_type": "stream",
     "text": [
      "False\n"
     ]
    }
   ],
   "source": [
    "print(great_bento)"
   ]
  },
  {
   "cell_type": "code",
   "execution_count": 128,
   "id": "842fd898",
   "metadata": {},
   "outputs": [],
   "source": [
    "# Replace None with relevant code\n",
    "bento_ingredients = ['chicken','carrots','pineapple','candy','orange']"
   ]
  },
  {
   "cell_type": "code",
   "execution_count": 129,
   "id": "6ef2dba5",
   "metadata": {},
   "outputs": [
    {
     "data": {
      "text/plain": [
       "'orange'"
      ]
     },
     "execution_count": 129,
     "metadata": {},
     "output_type": "execute_result"
    }
   ],
   "source": [
    "# Run this cell without changes\n",
    "bento_ingredients[4]"
   ]
  },
  {
   "cell_type": "code",
   "execution_count": 130,
   "id": "c092e625",
   "metadata": {},
   "outputs": [
    {
     "data": {
      "text/plain": [
       "['pineapple', 'candy', 'orange']"
      ]
     },
     "execution_count": 130,
     "metadata": {},
     "output_type": "execute_result"
    }
   ],
   "source": [
    "# Run this cell without changes\n",
    "# Note that our 3rd side is the 4th element above, but we use 5 in the range\n",
    "# Play around with these numbers, and start to build some understanding of \n",
    "# which elements are where exactly in the list\n",
    "bento_ingredients[2:5]"
   ]
  },
  {
   "cell_type": "code",
   "execution_count": 131,
   "id": "1db275ed",
   "metadata": {},
   "outputs": [],
   "source": [
    "bento_ingredients.append('gum')"
   ]
  },
  {
   "cell_type": "code",
   "execution_count": 132,
   "id": "19d74839",
   "metadata": {},
   "outputs": [
    {
     "data": {
      "text/plain": [
       "'gum'"
      ]
     },
     "execution_count": 132,
     "metadata": {},
     "output_type": "execute_result"
    }
   ],
   "source": [
    "bento_ingredients.pop()"
   ]
  },
  {
   "cell_type": "code",
   "execution_count": 133,
   "id": "083d54e6",
   "metadata": {},
   "outputs": [
    {
     "name": "stdout",
     "output_type": "stream",
     "text": [
      "I'd like my bento box to contain: chicken, carrots, pineapple, candy, and orange\n"
     ]
    }
   ],
   "source": [
    "# Run this cell without changes\n",
    "print(\"I'd like my bento box to contain: \" +\n",
    "      \", \".join(bento_ingredients[:-1]) + \", and \" + bento_ingredients[-1])"
   ]
  },
  {
   "cell_type": "code",
   "execution_count": 134,
   "id": "34e2152c",
   "metadata": {},
   "outputs": [
    {
     "name": "stdout",
     "output_type": "stream",
     "text": [
      "My bento box will include chicken and carrots.\n"
     ]
    }
   ],
   "source": [
    "# Run this cell without changes\n",
    "print(f\"My bento box will include {bento_ingredients[0]} and {bento_ingredients[1]}.\")"
   ]
  },
  {
   "cell_type": "code",
   "execution_count": 135,
   "id": "89baa71f",
   "metadata": {},
   "outputs": [
    {
     "name": "stdout",
     "output_type": "stream",
     "text": [
      "My bento box will include chicken and carrots.\n"
     ]
    }
   ],
   "source": [
    "# The above cell is the same as:\n",
    "print(\"My bento box will include {} and {}.\".format(bento_ingredients[0], bento_ingredients[1]))"
   ]
  },
  {
   "cell_type": "code",
   "execution_count": null,
   "id": "7cc4313a",
   "metadata": {},
   "outputs": [],
   "source": []
  },
  {
   "cell_type": "code",
   "execution_count": 136,
   "id": "1ddb7a99",
   "metadata": {},
   "outputs": [
    {
     "name": "stdout",
     "output_type": "stream",
     "text": [
      "{'main': 'rice', 'protein': 'shark', 'side1': 'kimchi', 'side2': 'grass', 'side3': 'olives'}\n",
      "<class 'dict'>\n"
     ]
    }
   ],
   "source": [
    "# Code here to create a dictionary from your bento ingredients\n",
    "# Change things up to whatever you like!\n",
    "\n",
    "bento_dict = {\n",
    "    'main': 'rice',         \n",
    "    'protein':'shark',        \n",
    "    'side1': 'kimchi',     \n",
    "    'side2': 'grass',         \n",
    "    'side3': 'olives'  \n",
    "}\n",
    "\n",
    "print(bento_dict)\n",
    "print(type(bento_dict))  "
   ]
  },
  {
   "cell_type": "code",
   "execution_count": 137,
   "id": "f78bf389",
   "metadata": {},
   "outputs": [],
   "source": [
    "bento_Jasmine  = {\n",
    "    'main': 'rice',         \n",
    "    'protein':'shark',        \n",
    "    'side1': 'kimchi',     \n",
    "    'side2': 'grass',         \n",
    "    'side3': 'olives'  \n",
    "}\n",
    "\n",
    "bento_Leslie = {'main': 'rice',\n",
    " 'protein': 'ginger chicken',\n",
    " 'side1': 'carrots',\n",
    " 'side2': 'peas',\n",
    " 'side3': 'garlic mushrooms'}\n",
    "\n",
    "\n",
    "bento_Vinh = {'main': 'rice',\n",
    " 'protein': 'shrimp',\n",
    " 'side1': 'imitation crab',\n",
    " 'side2': 'sesame seeds',\n",
    " 'side3': 'seaweed'}"
   ]
  },
  {
   "cell_type": "code",
   "execution_count": 138,
   "id": "64cdec0a",
   "metadata": {},
   "outputs": [],
   "source": [
    "bento_group =  {\n",
    "    'Jasmine' :bento_Jasmine,\n",
    "    'Leslie' : bento_Leslie,\n",
    "    'Vinh' : bento_Vinh\n",
    "}"
   ]
  },
  {
   "cell_type": "code",
   "execution_count": 139,
   "id": "ffafc657",
   "metadata": {},
   "outputs": [
    {
     "name": "stdout",
     "output_type": "stream",
     "text": [
      "{'Jasmine': {'main': 'rice', 'protein': 'shark', 'side1': 'kimchi', 'side2': 'grass', 'side3': 'olives'}, 'Leslie': {'main': 'rice', 'protein': 'ginger chicken', 'side1': 'carrots', 'side2': 'peas', 'side3': 'garlic mushrooms'}, 'Vinh': {'main': 'rice', 'protein': 'shrimp', 'side1': 'imitation crab', 'side2': 'sesame seeds', 'side3': 'seaweed'}}\n"
     ]
    }
   ],
   "source": [
    "print(bento_group)"
   ]
  },
  {
   "cell_type": "code",
   "execution_count": 140,
   "id": "890de6d1",
   "metadata": {},
   "outputs": [],
   "source": [
    "list_name = bento_group.keys()  "
   ]
  },
  {
   "cell_type": "code",
   "execution_count": 141,
   "id": "b7515c40",
   "metadata": {},
   "outputs": [
    {
     "name": "stdout",
     "output_type": "stream",
     "text": [
      "['Jasmine', 'Leslie', 'Vinh']\n"
     ]
    }
   ],
   "source": [
    "print(list(list_name))"
   ]
  },
  {
   "cell_type": "code",
   "execution_count": 142,
   "id": "556c3cca",
   "metadata": {},
   "outputs": [
    {
     "name": "stdout",
     "output_type": "stream",
     "text": [
      "Jasmine main ingredient is: rice\n",
      "Leslie main ingredient is: rice\n",
      "Vinh main ingredient is: rice\n"
     ]
    }
   ],
   "source": [
    "for name in bento_group:  \n",
    "    main_ingredient = bento_group[name]['main']  \n",
    "    print(name + \" main ingredient is: \" + main_ingredient)"
   ]
  },
  {
   "cell_type": "code",
   "execution_count": 143,
   "id": "7817ef36",
   "metadata": {},
   "outputs": [],
   "source": [
    "# Creating a list of tuples with each person's name and their protein amount\n",
    "protein_group = []\n",
    "\n",
    "for name, bento in bento_group.items():\n",
    "    protein_amount = bento['protein']  \n",
    "    protein_group.append((name, protein_amount))  \n"
   ]
  },
  {
   "cell_type": "code",
   "execution_count": 144,
   "id": "d2826343",
   "metadata": {},
   "outputs": [
    {
     "name": "stdout",
     "output_type": "stream",
     "text": [
      "[('Jasmine', 'shark'), ('Leslie', 'ginger chicken'), ('Vinh', 'shrimp')]\n"
     ]
    }
   ],
   "source": [
    "\n",
    "print(protein_group)"
   ]
  },
  {
   "cell_type": "code",
   "execution_count": 145,
   "id": "101751b1",
   "metadata": {},
   "outputs": [
    {
     "name": "stdout",
     "output_type": "stream",
     "text": [
      "Jasmine wants shark choice of protein.\n",
      "Leslie wants ginger chicken choice of protein.\n",
      "Vinh wants shrimp choice of protein.\n"
     ]
    }
   ],
   "source": [
    "for order in protein_group:\n",
    "    name, protein = order  # Unpack the tuple\n",
    "    print(f\"{name} wants {protein} choice of protein.\")"
   ]
  },
  {
   "cell_type": "code",
   "execution_count": null,
   "id": "dfa7cec1",
   "metadata": {},
   "outputs": [],
   "source": []
  }
 ],
 "metadata": {
  "kernelspec": {
   "display_name": "Python 3 (ipykernel)",
   "language": "python",
   "name": "python3"
  },
  "language_info": {
   "codemirror_mode": {
    "name": "ipython",
    "version": 3
   },
   "file_extension": ".py",
   "mimetype": "text/x-python",
   "name": "python",
   "nbconvert_exporter": "python",
   "pygments_lexer": "ipython3",
   "version": "3.11.5"
  }
 },
 "nbformat": 4,
 "nbformat_minor": 5
}
